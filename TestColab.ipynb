{
  "nbformat": 4,
  "nbformat_minor": 0,
  "metadata": {
    "colab": {
      "name": "TestColab.ipynb",
      "provenance": [],
      "authorship_tag": "ABX9TyMkAdbm1AitQKTj5iV9+mCY",
      "include_colab_link": true
    },
    "kernelspec": {
      "name": "python3",
      "display_name": "Python 3"
    }
  },
  "cells": [
    {
      "cell_type": "markdown",
      "metadata": {
        "id": "view-in-github",
        "colab_type": "text"
      },
      "source": [
        "<a href=\"https://colab.research.google.com/github/damuopel/TestColab/blob/master/TestColab.ipynb\" target=\"_parent\"><img src=\"https://colab.research.google.com/assets/colab-badge.svg\" alt=\"Open In Colab\"/></a>"
      ]
    },
    {
      "cell_type": "code",
      "metadata": {
        "id": "nH4LlY8bht8k"
      },
      "source": [
        "# Import TensorFlow\r\n",
        "import tensorflow as tf\r\n",
        "\r\n",
        "# Load MNIST Dataset\r\n",
        "mnist = tf.keras.datasets.mnist\r\n",
        "\r\n",
        "(x_train, y_train), (x_test, y_test) = mnist.load_data()\r\n",
        "\r\n",
        "x_train, x_test = x_train/255.0, x_test/255.0\r\n",
        "\r\n",
        "# Create model\r\n",
        "model = tf.keras.models.Sequential([tf.keras.layers.Flatten(input_shape = (28,28)),\r\n",
        "\ttf.keras.layers.Dense(128, activation = 'relu'),\r\n",
        "\ttf.keras.layers.Dropout(0.2),\r\n",
        "\ttf.keras.layers.Dense(10, activation = 'softmax')])\r\n",
        "\r\n",
        "model.compile(optimizer = 'adam',\r\n",
        "\tloss = 'sparse_categorical_crossentropy',\r\n",
        "\tmetrics = ['accuracy'])\r\n",
        "\r\n",
        "# Train model\r\n",
        "model.fit(x_train, y_train, epochs = 5)\r\n",
        "\r\n",
        "# Evaluate model\r\n",
        "model.evaluate(x_test, y_test, verbose = 2)"
      ],
      "execution_count": null,
      "outputs": []
    }
  ]
}