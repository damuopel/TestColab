{
  "nbformat": 4,
  "nbformat_minor": 0,
  "metadata": {
    "colab": {
      "name": "TestColab.ipynb",
      "provenance": [],
      "authorship_tag": "ABX9TyMkAdbm1AitQKTj5iV9+mCY",
      "include_colab_link": true
    },
    "kernelspec": {
      "name": "python3",
      "display_name": "Python 3"
    }
  },
  "cells": [
    {
      "cell_type": "markdown",
      "metadata": {
        "id": "view-in-github",
        "colab_type": "text"
      },
      "source": [
        "<a href=\"https://colab.research.google.com/github/damuopel/TestColab/blob/master/TestColab.ipynb\" target=\"_parent\"><img src=\"https://colab.research.google.com/assets/colab-badge.svg\" alt=\"Open In Colab\"/></a>"
      ]
    },
    {
      "cell_type": "code",
      "metadata": {
        "colab": {
          "base_uri": "https://localhost:8080/"
        },
        "id": "nH4LlY8bht8k",
        "outputId": "b04241d0-2ac3-4482-9fbc-61e72a026cf1"
      },
      "source": [
        "# Import TensorFlow\r\n",
        "import tensorflow as tf\r\n",
        "\r\n",
        "# Load MNIST Dataset\r\n",
        "mnist = tf.keras.datasets.mnist\r\n",
        "\r\n",
        "(x_train, y_train), (x_test, y_test) = mnist.load_data()\r\n",
        "\r\n",
        "x_train, x_test = x_train/255.0, x_test/255.0\r\n",
        "\r\n",
        "# Create model\r\n",
        "model = tf.keras.models.Sequential([tf.keras.layers.Flatten(input_shape = (28,28)),\r\n",
        "\ttf.keras.layers.Dense(128, activation = 'relu'),\r\n",
        "\ttf.keras.layers.Dropout(0.2),\r\n",
        "\ttf.keras.layers.Dense(10, activation = 'softmax')])\r\n",
        "\r\n",
        "model.compile(optimizer = 'adam',\r\n",
        "\tloss = 'sparse_categorical_crossentropy',\r\n",
        "\tmetrics = ['accuracy'])\r\n",
        "\r\n",
        "# Train model\r\n",
        "model.fit(x_train, y_train, epochs = 5)\r\n",
        "\r\n",
        "# Evaluate model\r\n",
        "model.evaluate(x_test, y_test, verbose = 2)"
      ],
      "execution_count": 1,
      "outputs": [
        {
          "output_type": "stream",
          "text": [
            "Downloading data from https://storage.googleapis.com/tensorflow/tf-keras-datasets/mnist.npz\n",
            "11493376/11490434 [==============================] - 0s 0us/step\n",
            "Epoch 1/5\n",
            "1875/1875 [==============================] - 3s 2ms/step - loss: 0.4914 - accuracy: 0.8587\n",
            "Epoch 2/5\n",
            "1875/1875 [==============================] - 3s 2ms/step - loss: 0.1540 - accuracy: 0.9533\n",
            "Epoch 3/5\n",
            "1875/1875 [==============================] - 3s 2ms/step - loss: 0.1090 - accuracy: 0.9677\n",
            "Epoch 4/5\n",
            "1875/1875 [==============================] - 3s 2ms/step - loss: 0.0851 - accuracy: 0.9735\n",
            "Epoch 5/5\n",
            "1875/1875 [==============================] - 3s 2ms/step - loss: 0.0782 - accuracy: 0.9752\n",
            "313/313 - 0s - loss: 0.0729 - accuracy: 0.9769\n"
          ],
          "name": "stdout"
        },
        {
          "output_type": "execute_result",
          "data": {
            "text/plain": [
              "[0.07294252514839172, 0.9768999814987183]"
            ]
          },
          "metadata": {
            "tags": []
          },
          "execution_count": 1
        }
      ]
    }
  ]
}